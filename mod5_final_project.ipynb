{
 "cells": [
  {
   "cell_type": "markdown",
   "metadata": {},
   "source": [
    "<center>\n",
    "    <img src=\"https://cf-courses-data.s3.us.cloud-object-storage.appdomain.cloud/IBMDeveloperSkillsNetwork-DB0201EN-SkillsNetwork/labs/FinalModule_Coursera_V5/images/SN_web_lightmode.png\" width=\"300\" alt=\"cognitiveclass.ai logo\">\n",
    "</center>\n",
    "\n",
    "<h1 align=center><font size = 5>Assignment: Notebook for Graded Assessment</font></h1>\n"
   ]
  },
  {
   "cell_type": "markdown",
   "metadata": {},
   "source": [
    "# Introduction\n",
    "\n",
    "Using this Python notebook you will:\n",
    "\n",
    "1.  Understand three Chicago datasets\n",
    "2.  Load the three datasets into three tables in a SQLIte database\n",
    "3.  Execute SQL queries to answer assignment questions\n"
   ]
  },
  {
   "cell_type": "markdown",
   "metadata": {},
   "source": [
    "## Understand the datasets\n",
    "\n",
    "To complete the assignment problems in this notebook you will be using three datasets that are available on the city of Chicago's Data Portal:\n",
    "\n",
    "1.  <a href=\"https://data.cityofchicago.org/Health-Human-Services/Census-Data-Selected-socioeconomic-indicators-in-C/kn9c-c2s2?utm_medium=Exinfluencer&utm_source=Exinfluencer&utm_content=000026UJ&utm_term=10006555&utm_id=NA-SkillsNetwork-Channel-SkillsNetworkCoursesIBMDeveloperSkillsNetworkDB0201ENSkillsNetwork20127838-2021-01-01\">Socioeconomic Indicators in Chicago</a>\n",
    "2.  <a href=\"https://data.cityofchicago.org/Education/Chicago-Public-Schools-Progress-Report-Cards-2011-/9xs2-f89t?utm_medium=Exinfluencer&utm_source=Exinfluencer&utm_content=000026UJ&utm_term=10006555&utm_id=NA-SkillsNetwork-Channel-SkillsNetworkCoursesIBMDeveloperSkillsNetworkDB0201ENSkillsNetwork20127838-2021-01-01\">Chicago Public Schools</a>\n",
    "3.  <a href=\"https://data.cityofchicago.org/Public-Safety/Crimes-2001-to-present/ijzp-q8t2?utm_medium=Exinfluencer&utm_source=Exinfluencer&utm_content=000026UJ&utm_term=10006555&utm_id=NA-SkillsNetwork-Channel-SkillsNetworkCoursesIBMDeveloperSkillsNetworkDB0201ENSkillsNetwork20127838-2021-01-01\">Chicago Crime Data</a>\n",
    "\n",
    "### 1. Socioeconomic Indicators in Chicago\n",
    "\n",
    "This dataset contains a selection of six socioeconomic indicators of public health significance and a “hardship index,” for each Chicago community area, for the years 2008 – 2012.\n",
    "\n",
    "A detailed description of this dataset and the original dataset can be obtained from the Chicago Data Portal at:\n",
    "\n",
    "[https://data.cityofchicago.org/Health-Human-Services/Census-Data-Selected-socioeconomic-indicators-in-C/kn9c-c2s2](https://data.cityofchicago.org/Health-Human-Services/Census-Data-Selected-socioeconomic-indicators-in-C/kn9c-c2s2?utm_medium=Exinfluencer&utm_source=Exinfluencer&utm_content=000026UJ&utm_term=10006555&utm_id=NA-SkillsNetwork-Channel-SkillsNetworkCoursesIBMDeveloperSkillsNetworkDB0201ENSkillsNetwork20127838-2021-01-01&cm_mmc=Email_Newsletter-\\_-Developer_Ed%2BTech-\\_-WW_WW-\\_-SkillsNetwork-Courses-IBMDeveloperSkillsNetwork-DB0201EN-SkillsNetwork-20127838&cm_mmca1=000026UJ&cm_mmca2=10006555&cm_mmca3=M12345678&cvosrc=email.Newsletter.M12345678&cvo_campaign=000026UJ)\n",
    "\n",
    "### 2. Chicago Public Schools\n",
    "\n",
    "This dataset shows all school level performance data used to create CPS School Report Cards for the 2011-2012 school year. This dataset is provided by the city of Chicago's Data Portal.\n",
    "\n",
    "A detailed description of this dataset and the original dataset can be obtained from the Chicago Data Portal at:\n",
    "\n",
    "[https://data.cityofchicago.org/Education/Chicago-Public-Schools-Progress-Report-Cards-2011-/9xs2-f89t](https://data.cityofchicago.org/Education/Chicago-Public-Schools-Progress-Report-Cards-2011-/9xs2-f89t?utm_medium=Exinfluencer&utm_source=Exinfluencer&utm_content=000026UJ&utm_term=10006555&utm_id=NA-SkillsNetwork-Channel-SkillsNetworkCoursesIBMDeveloperSkillsNetworkDB0201ENSkillsNetwork20127838-2021-01-01&cm_mmc=Email_Newsletter-\\_-Developer_Ed%2BTech-\\_-WW_WW-\\_-SkillsNetwork-Courses-IBMDeveloperSkillsNetwork-DB0201EN-SkillsNetwork-20127838&cm_mmca1=000026UJ&cm_mmca2=10006555&cm_mmca3=M12345678&cvosrc=email.Newsletter.M12345678&cvo_campaign=000026UJ)\n",
    "\n",
    "### 3. Chicago Crime Data\n",
    "\n",
    "This dataset reflects reported incidents of crime (with the exception of murders where data exists for each victim) that occurred in the City of Chicago from 2001 to present, minus the most recent seven days.\n",
    "\n",
    "A detailed description of this dataset and the original dataset can be obtained from the Chicago Data Portal at:\n",
    "\n",
    "[https://data.cityofchicago.org/Public-Safety/Crimes-2001-to-present/ijzp-q8t2](https://data.cityofchicago.org/Public-Safety/Crimes-2001-to-present/ijzp-q8t2?utm_medium=Exinfluencer&utm_source=Exinfluencer&utm_content=000026UJ&utm_term=10006555&utm_id=NA-SkillsNetwork-Channel-SkillsNetworkCoursesIBMDeveloperSkillsNetworkDB0201ENSkillsNetwork20127838-2021-01-01&cm_mmc=Email_Newsletter-\\_-Developer_Ed%2BTech-\\_-WW_WW-\\_-SkillsNetwork-Courses-IBMDeveloperSkillsNetwork-DB0201EN-SkillsNetwork-20127838&cm_mmca1=000026UJ&cm_mmca2=10006555&cm_mmca3=M12345678&cvosrc=email.Newsletter.M12345678&cvo_campaign=000026UJ)\n"
   ]
  },
  {
   "cell_type": "markdown",
   "metadata": {},
   "source": [
    "### Download the datasets\n",
    "\n",
    "This assignment requires you to have these three tables populated with a subset of the whole datasets.\n",
    "\n",
    "In many cases the dataset to be analyzed is available as a .CSV (comma separated values) file, perhaps on the internet. \n",
    "\n",
    "Use the links below to read the data files using the Pandas library. \n",
    "\n",
    "* Chicago Census Data\n",
    "\n",
    "https://cf-courses-data.s3.us.cloud-object-storage.appdomain.cloud/IBMDeveloperSkillsNetwork-DB0201EN-SkillsNetwork/labs/FinalModule_Coursera_V5/data/ChicagoCensusData.csv?utm_medium=Exinfluencer&utm_source=Exinfluencer&utm_content=000026UJ&utm_term=10006555&utm_id=NA-SkillsNetwork-Channel-SkillsNetworkCoursesIBMDeveloperSkillsNetworkDB0201ENSkillsNetwork20127838-2021-01-01\n",
    "\n",
    "* Chicago Public Schools\n",
    "\n",
    "https://cf-courses-data.s3.us.cloud-object-storage.appdomain.cloud/IBMDeveloperSkillsNetwork-DB0201EN-SkillsNetwork/labs/FinalModule_Coursera_V5/data/ChicagoPublicSchools.csv?utm_medium=Exinfluencer&utm_source=Exinfluencer&utm_content=000026UJ&utm_term=10006555&utm_id=NA-SkillsNetwork-Channel-SkillsNetworkCoursesIBMDeveloperSkillsNetworkDB0201ENSkillsNetwork20127838-2021-01-01\n",
    "\n",
    "* Chicago Crime Data\n",
    "\n",
    "https://cf-courses-data.s3.us.cloud-object-storage.appdomain.cloud/IBMDeveloperSkillsNetwork-DB0201EN-SkillsNetwork/labs/FinalModule_Coursera_V5/data/ChicagoCrimeData.csv?utm_medium=Exinfluencer&utm_source=Exinfluencer&utm_content=000026UJ&utm_term=10006555&utm_id=NA-SkillsNetwork-Channel-SkillsNetworkCoursesIBMDeveloperSkillsNetworkDB0201ENSkillsNetwork20127838-2021-01-01\n",
    "\n",
    "**NOTE:** Ensure you use the datasets available on the links above instead of directly from the Chicago Data Portal. The versions linked here are subsets of the original datasets and have some of the column names modified to be more database friendly which will make it easier to complete this assignment.\n"
   ]
  },
  {
   "cell_type": "markdown",
   "metadata": {},
   "source": [
    "### Store the datasets in database tables\n",
    "\n",
    "To analyze the data using SQL, it first needs to be loaded into SQLite DB.\n",
    "We will create three tables in as under:\n",
    "\n",
    "1.  **CENSUS_DATA**\n",
    "2.  **CHICAGO_PUBLIC_SCHOOLS**\n",
    "3.  **CHICAGO_CRIME_DATA**\n"
   ]
  },
  {
   "cell_type": "markdown",
   "metadata": {},
   "source": [
    "Load the `pandas` and `sqlite3` libraries and establish a connection to `FinalDB.db`\n"
   ]
  },
  {
   "cell_type": "code",
   "execution_count": 6,
   "metadata": {
    "tags": []
   },
   "outputs": [],
   "source": [
    "import csv, sqlite3\n",
    "\n",
    "con = sqlite3.connect(\"RealWorldData.db\")\n",
    "cur = con.cursor()\n",
    "\n"
   ]
  },
  {
   "cell_type": "markdown",
   "metadata": {},
   "source": [
    "Load the SQL magic module\n"
   ]
  },
  {
   "cell_type": "code",
   "execution_count": 7,
   "metadata": {
    "tags": []
   },
   "outputs": [],
   "source": [
    "!pip install -q pandas==1.1.5"
   ]
  },
  {
   "cell_type": "markdown",
   "metadata": {},
   "source": [
    "Use `Pandas` to load the data available in the links above to dataframes. Use these dataframes to load data on to the database `FinalDB.db` as required tables.\n"
   ]
  },
  {
   "cell_type": "code",
   "execution_count": 8,
   "metadata": {
    "tags": []
   },
   "outputs": [
    {
     "name": "stdout",
     "output_type": "stream",
     "text": [
      "The sql extension is already loaded. To reload it, use:\n",
      "  %reload_ext sql\n"
     ]
    }
   ],
   "source": [
    "%load_ext sql"
   ]
  },
  {
   "cell_type": "markdown",
   "metadata": {},
   "source": [
    "Establish a connection between SQL magic module and the database `FinalDB.db`\n"
   ]
  },
  {
   "cell_type": "code",
   "execution_count": 9,
   "metadata": {
    "tags": []
   },
   "outputs": [
    {
     "data": {
      "text/plain": [
       "'Connected: @RealWorldData.db'"
      ]
     },
     "execution_count": 9,
     "metadata": {},
     "output_type": "execute_result"
    }
   ],
   "source": [
    "%sql sqlite:///RealWorldData.db"
   ]
  },
  {
   "cell_type": "code",
   "execution_count": 10,
   "metadata": {
    "tags": []
   },
   "outputs": [],
   "source": [
    "import pandas\n",
    "# df = pd.read_csv(\")\n",
    "df = pandas.read_csv(\"https://cf-courses-data.s3.us.cloud-object-storage.appdomain.cloud/IBMDeveloperSkillsNetwork-DB0201EN-SkillsNetwork/labs/FinalModule_Coursera_V5/data/ChicagoCensusData.csv\")\n",
    "df.to_sql(\"CENSUS_DATA\", con, if_exists='replace', index=False,method=\"multi\")\n",
    "\n",
    "df = pandas.read_csv(\"https://cf-courses-data.s3.us.cloud-object-storage.appdomain.cloud/IBMDeveloperSkillsNetwork-DB0201EN-SkillsNetwork/labs/FinalModule_Coursera_V5/data/ChicagoCrimeData.csv\")\n",
    "df.to_sql(\"CHICAGO_CRIME_DATA\", con, if_exists='replace', index=False, method=\"multi\")\n",
    "\n",
    "df = pandas.read_csv(\"https://cf-courses-data.s3.us.cloud-object-storage.appdomain.cloud/IBMDeveloperSkillsNetwork-DB0201EN-SkillsNetwork/labs/FinalModule_Coursera_V5/data/ChicagoPublicSchools.csv\")\n",
    "df.to_sql(\"CHICAGO_PUBLIC_SCHOOLS_DATA\", con, if_exists='replace', index=False, method=\"multi\")"
   ]
  },
  {
   "cell_type": "code",
   "execution_count": 11,
   "metadata": {
    "tags": []
   },
   "outputs": [
    {
     "name": "stdout",
     "output_type": "stream",
     "text": [
      " * sqlite:///RealWorldData.db\n",
      "Done.\n"
     ]
    },
    {
     "data": {
      "text/html": [
       "<table>\n",
       "    <thead>\n",
       "        <tr>\n",
       "            <th>name</th>\n",
       "        </tr>\n",
       "    </thead>\n",
       "    <tbody>\n",
       "        <tr>\n",
       "            <td>CENSUS_DATA</td>\n",
       "        </tr>\n",
       "        <tr>\n",
       "            <td>CHICAGO_CRIME_DATA</td>\n",
       "        </tr>\n",
       "        <tr>\n",
       "            <td>CHICAGO_PUBLIC_SCHOOLS_DATA</td>\n",
       "        </tr>\n",
       "    </tbody>\n",
       "</table>"
      ],
      "text/plain": [
       "[('CENSUS_DATA',), ('CHICAGO_CRIME_DATA',), ('CHICAGO_PUBLIC_SCHOOLS_DATA',)]"
      ]
     },
     "execution_count": 11,
     "metadata": {},
     "output_type": "execute_result"
    }
   ],
   "source": [
    "# type in your query to retrieve list of all tables in the database\n",
    "%sql SELECT name FROM sqlite_master WHERE type = 'table'"
   ]
  },
  {
   "cell_type": "markdown",
   "metadata": {},
   "source": [
    "You can now proceed to the the following questions. Please note that a graded assignment will follow this lab and there will be a question on each of the problems stated below. It can be from the answer you received or the code you write for this problem. Therefore, please keep a note of both your codes as well as the response you generate.\n"
   ]
  },
  {
   "cell_type": "markdown",
   "metadata": {},
   "source": [
    "## Problems\n",
    "\n",
    "Now write and execute SQL queries to solve assignment problems\n",
    "\n",
    "### Problem 1\n",
    "\n",
    "##### Find the total number of crimes recorded in the CRIME table.\n"
   ]
  },
  {
   "cell_type": "code",
   "execution_count": 13,
   "metadata": {
    "tags": []
   },
   "outputs": [
    {
     "name": "stdout",
     "output_type": "stream",
     "text": [
      " * sqlite:///RealWorldData.db\n",
      "Done.\n"
     ]
    },
    {
     "data": {
      "text/html": [
       "<table>\n",
       "    <thead>\n",
       "        <tr>\n",
       "            <th>total_crimes</th>\n",
       "        </tr>\n",
       "    </thead>\n",
       "    <tbody>\n",
       "        <tr>\n",
       "            <td>533</td>\n",
       "        </tr>\n",
       "    </tbody>\n",
       "</table>"
      ],
      "text/plain": [
       "[(533,)]"
      ]
     },
     "execution_count": 13,
     "metadata": {},
     "output_type": "execute_result"
    }
   ],
   "source": [
    "# -- %sql SELECT COUNT(crimes_recorded) from CHICAGO_CRIME_DATA\n",
    "%sql SELECT COUNT(*) AS total_crimes FROM CHICAGO_CRIME_DATA;\n"
   ]
  },
  {
   "cell_type": "markdown",
   "metadata": {},
   "source": [
    "### Problem 2\n",
    "\n",
    "##### List community area names and numbers with per capita income less than 11000.\n"
   ]
  },
  {
   "cell_type": "code",
   "execution_count": 28,
   "metadata": {
    "tags": []
   },
   "outputs": [
    {
     "name": "stdout",
     "output_type": "stream",
     "text": [
      " * sqlite:///RealWorldData.db\n",
      "Done.\n"
     ]
    },
    {
     "data": {
      "text/html": [
       "<table>\n",
       "    <thead>\n",
       "        <tr>\n",
       "            <th>COMMUNITY_AREA_NUMBER</th>\n",
       "            <th>COMMUNITY_AREA_NAME</th>\n",
       "        </tr>\n",
       "    </thead>\n",
       "    <tbody>\n",
       "        <tr>\n",
       "            <td>1.0</td>\n",
       "            <td>Rogers Park</td>\n",
       "        </tr>\n",
       "        <tr>\n",
       "            <td>2.0</td>\n",
       "            <td>West Ridge</td>\n",
       "        </tr>\n",
       "        <tr>\n",
       "            <td>3.0</td>\n",
       "            <td>Uptown</td>\n",
       "        </tr>\n",
       "        <tr>\n",
       "            <td>4.0</td>\n",
       "            <td>Lincoln Square</td>\n",
       "        </tr>\n",
       "        <tr>\n",
       "            <td>5.0</td>\n",
       "            <td>North Center</td>\n",
       "        </tr>\n",
       "        <tr>\n",
       "            <td>6.0</td>\n",
       "            <td>Lake View</td>\n",
       "        </tr>\n",
       "        <tr>\n",
       "            <td>7.0</td>\n",
       "            <td>Lincoln Park</td>\n",
       "        </tr>\n",
       "        <tr>\n",
       "            <td>8.0</td>\n",
       "            <td>Near North Side</td>\n",
       "        </tr>\n",
       "        <tr>\n",
       "            <td>9.0</td>\n",
       "            <td>Edison Park</td>\n",
       "        </tr>\n",
       "        <tr>\n",
       "            <td>10.0</td>\n",
       "            <td>Norwood Park</td>\n",
       "        </tr>\n",
       "        <tr>\n",
       "            <td>11.0</td>\n",
       "            <td>Jefferson Park</td>\n",
       "        </tr>\n",
       "        <tr>\n",
       "            <td>12.0</td>\n",
       "            <td>Forest Glen</td>\n",
       "        </tr>\n",
       "        <tr>\n",
       "            <td>13.0</td>\n",
       "            <td>North Park</td>\n",
       "        </tr>\n",
       "        <tr>\n",
       "            <td>14.0</td>\n",
       "            <td>Albany Park</td>\n",
       "        </tr>\n",
       "        <tr>\n",
       "            <td>15.0</td>\n",
       "            <td>Portage Park</td>\n",
       "        </tr>\n",
       "        <tr>\n",
       "            <td>16.0</td>\n",
       "            <td>Irving Park</td>\n",
       "        </tr>\n",
       "        <tr>\n",
       "            <td>17.0</td>\n",
       "            <td>Dunning</td>\n",
       "        </tr>\n",
       "        <tr>\n",
       "            <td>18.0</td>\n",
       "            <td>Montclaire</td>\n",
       "        </tr>\n",
       "        <tr>\n",
       "            <td>19.0</td>\n",
       "            <td>Belmont Cragin</td>\n",
       "        </tr>\n",
       "        <tr>\n",
       "            <td>20.0</td>\n",
       "            <td>Hermosa</td>\n",
       "        </tr>\n",
       "        <tr>\n",
       "            <td>21.0</td>\n",
       "            <td>Avondale</td>\n",
       "        </tr>\n",
       "        <tr>\n",
       "            <td>22.0</td>\n",
       "            <td>Logan Square</td>\n",
       "        </tr>\n",
       "        <tr>\n",
       "            <td>23.0</td>\n",
       "            <td>Humboldt park</td>\n",
       "        </tr>\n",
       "        <tr>\n",
       "            <td>24.0</td>\n",
       "            <td>West Town</td>\n",
       "        </tr>\n",
       "        <tr>\n",
       "            <td>25.0</td>\n",
       "            <td>Austin</td>\n",
       "        </tr>\n",
       "        <tr>\n",
       "            <td>27.0</td>\n",
       "            <td>East Garfield Park</td>\n",
       "        </tr>\n",
       "        <tr>\n",
       "            <td>28.0</td>\n",
       "            <td>Near West Side</td>\n",
       "        </tr>\n",
       "        <tr>\n",
       "            <td>29.0</td>\n",
       "            <td>North Lawndale</td>\n",
       "        </tr>\n",
       "        <tr>\n",
       "            <td>31.0</td>\n",
       "            <td>Lower West Side</td>\n",
       "        </tr>\n",
       "        <tr>\n",
       "            <td>32.0</td>\n",
       "            <td>Loop</td>\n",
       "        </tr>\n",
       "        <tr>\n",
       "            <td>33.0</td>\n",
       "            <td>Near South Side</td>\n",
       "        </tr>\n",
       "        <tr>\n",
       "            <td>34.0</td>\n",
       "            <td>Armour Square</td>\n",
       "        </tr>\n",
       "        <tr>\n",
       "            <td>35.0</td>\n",
       "            <td>Douglas</td>\n",
       "        </tr>\n",
       "        <tr>\n",
       "            <td>36.0</td>\n",
       "            <td>Oakland</td>\n",
       "        </tr>\n",
       "        <tr>\n",
       "            <td>38.0</td>\n",
       "            <td>Grand Boulevard</td>\n",
       "        </tr>\n",
       "        <tr>\n",
       "            <td>39.0</td>\n",
       "            <td>Kenwood</td>\n",
       "        </tr>\n",
       "        <tr>\n",
       "            <td>40.0</td>\n",
       "            <td>Washington Park</td>\n",
       "        </tr>\n",
       "        <tr>\n",
       "            <td>41.0</td>\n",
       "            <td>Hyde Park</td>\n",
       "        </tr>\n",
       "        <tr>\n",
       "            <td>42.0</td>\n",
       "            <td>Woodlawn</td>\n",
       "        </tr>\n",
       "        <tr>\n",
       "            <td>43.0</td>\n",
       "            <td>South Shore</td>\n",
       "        </tr>\n",
       "        <tr>\n",
       "            <td>44.0</td>\n",
       "            <td>Chatham</td>\n",
       "        </tr>\n",
       "        <tr>\n",
       "            <td>45.0</td>\n",
       "            <td>Avalon Park</td>\n",
       "        </tr>\n",
       "        <tr>\n",
       "            <td>46.0</td>\n",
       "            <td>South Chicago</td>\n",
       "        </tr>\n",
       "        <tr>\n",
       "            <td>47.0</td>\n",
       "            <td>Burnside</td>\n",
       "        </tr>\n",
       "        <tr>\n",
       "            <td>48.0</td>\n",
       "            <td>Calumet Heights</td>\n",
       "        </tr>\n",
       "        <tr>\n",
       "            <td>49.0</td>\n",
       "            <td>Roseland</td>\n",
       "        </tr>\n",
       "        <tr>\n",
       "            <td>50.0</td>\n",
       "            <td>Pullman</td>\n",
       "        </tr>\n",
       "        <tr>\n",
       "            <td>51.0</td>\n",
       "            <td>South Deering</td>\n",
       "        </tr>\n",
       "        <tr>\n",
       "            <td>52.0</td>\n",
       "            <td>East Side</td>\n",
       "        </tr>\n",
       "        <tr>\n",
       "            <td>53.0</td>\n",
       "            <td>West Pullman</td>\n",
       "        </tr>\n",
       "        <tr>\n",
       "            <td>55.0</td>\n",
       "            <td>Hegewisch</td>\n",
       "        </tr>\n",
       "        <tr>\n",
       "            <td>56.0</td>\n",
       "            <td>Garfield Ridge</td>\n",
       "        </tr>\n",
       "        <tr>\n",
       "            <td>57.0</td>\n",
       "            <td>Archer Heights</td>\n",
       "        </tr>\n",
       "        <tr>\n",
       "            <td>58.0</td>\n",
       "            <td>Brighton Park</td>\n",
       "        </tr>\n",
       "        <tr>\n",
       "            <td>59.0</td>\n",
       "            <td>McKinley Park</td>\n",
       "        </tr>\n",
       "        <tr>\n",
       "            <td>60.0</td>\n",
       "            <td>Bridgeport</td>\n",
       "        </tr>\n",
       "        <tr>\n",
       "            <td>61.0</td>\n",
       "            <td>New City</td>\n",
       "        </tr>\n",
       "        <tr>\n",
       "            <td>62.0</td>\n",
       "            <td>West Elsdon</td>\n",
       "        </tr>\n",
       "        <tr>\n",
       "            <td>63.0</td>\n",
       "            <td>Gage Park</td>\n",
       "        </tr>\n",
       "        <tr>\n",
       "            <td>64.0</td>\n",
       "            <td>Clearing</td>\n",
       "        </tr>\n",
       "        <tr>\n",
       "            <td>65.0</td>\n",
       "            <td>West Lawn</td>\n",
       "        </tr>\n",
       "        <tr>\n",
       "            <td>66.0</td>\n",
       "            <td>Chicago Lawn</td>\n",
       "        </tr>\n",
       "        <tr>\n",
       "            <td>67.0</td>\n",
       "            <td>West Englewood</td>\n",
       "        </tr>\n",
       "        <tr>\n",
       "            <td>68.0</td>\n",
       "            <td>Englewood</td>\n",
       "        </tr>\n",
       "        <tr>\n",
       "            <td>69.0</td>\n",
       "            <td>Greater Grand Crossing</td>\n",
       "        </tr>\n",
       "        <tr>\n",
       "            <td>70.0</td>\n",
       "            <td>Ashburn</td>\n",
       "        </tr>\n",
       "        <tr>\n",
       "            <td>71.0</td>\n",
       "            <td>Auburn Gresham</td>\n",
       "        </tr>\n",
       "        <tr>\n",
       "            <td>72.0</td>\n",
       "            <td>Beverly</td>\n",
       "        </tr>\n",
       "        <tr>\n",
       "            <td>73.0</td>\n",
       "            <td>Washington Height</td>\n",
       "        </tr>\n",
       "        <tr>\n",
       "            <td>74.0</td>\n",
       "            <td>Mount Greenwood</td>\n",
       "        </tr>\n",
       "        <tr>\n",
       "            <td>75.0</td>\n",
       "            <td>Morgan Park</td>\n",
       "        </tr>\n",
       "        <tr>\n",
       "            <td>76.0</td>\n",
       "            <td>O&#x27;Hare</td>\n",
       "        </tr>\n",
       "        <tr>\n",
       "            <td>77.0</td>\n",
       "            <td>Edgewater</td>\n",
       "        </tr>\n",
       "        <tr>\n",
       "            <td>None</td>\n",
       "            <td>CHICAGO</td>\n",
       "        </tr>\n",
       "    </tbody>\n",
       "</table>"
      ],
      "text/plain": [
       "[(1.0, 'Rogers Park'),\n",
       " (2.0, 'West Ridge'),\n",
       " (3.0, 'Uptown'),\n",
       " (4.0, 'Lincoln Square'),\n",
       " (5.0, 'North Center'),\n",
       " (6.0, 'Lake View'),\n",
       " (7.0, 'Lincoln Park'),\n",
       " (8.0, 'Near North Side'),\n",
       " (9.0, 'Edison Park'),\n",
       " (10.0, 'Norwood Park'),\n",
       " (11.0, 'Jefferson Park'),\n",
       " (12.0, 'Forest Glen'),\n",
       " (13.0, 'North Park'),\n",
       " (14.0, 'Albany Park'),\n",
       " (15.0, 'Portage Park'),\n",
       " (16.0, 'Irving Park'),\n",
       " (17.0, 'Dunning'),\n",
       " (18.0, 'Montclaire'),\n",
       " (19.0, 'Belmont Cragin'),\n",
       " (20.0, 'Hermosa'),\n",
       " (21.0, 'Avondale'),\n",
       " (22.0, 'Logan Square'),\n",
       " (23.0, 'Humboldt park'),\n",
       " (24.0, 'West Town'),\n",
       " (25.0, 'Austin'),\n",
       " (27.0, 'East Garfield Park'),\n",
       " (28.0, 'Near West Side'),\n",
       " (29.0, 'North Lawndale'),\n",
       " (31.0, 'Lower West Side'),\n",
       " (32.0, 'Loop'),\n",
       " (33.0, 'Near South Side'),\n",
       " (34.0, 'Armour Square'),\n",
       " (35.0, 'Douglas'),\n",
       " (36.0, 'Oakland'),\n",
       " (38.0, 'Grand Boulevard'),\n",
       " (39.0, 'Kenwood'),\n",
       " (40.0, 'Washington Park'),\n",
       " (41.0, 'Hyde Park'),\n",
       " (42.0, 'Woodlawn'),\n",
       " (43.0, 'South Shore'),\n",
       " (44.0, 'Chatham'),\n",
       " (45.0, 'Avalon Park'),\n",
       " (46.0, 'South Chicago'),\n",
       " (47.0, 'Burnside'),\n",
       " (48.0, 'Calumet Heights'),\n",
       " (49.0, 'Roseland'),\n",
       " (50.0, 'Pullman'),\n",
       " (51.0, 'South Deering'),\n",
       " (52.0, 'East Side'),\n",
       " (53.0, 'West Pullman'),\n",
       " (55.0, 'Hegewisch'),\n",
       " (56.0, 'Garfield Ridge'),\n",
       " (57.0, 'Archer Heights'),\n",
       " (58.0, 'Brighton Park'),\n",
       " (59.0, 'McKinley Park'),\n",
       " (60.0, 'Bridgeport'),\n",
       " (61.0, 'New City'),\n",
       " (62.0, 'West Elsdon'),\n",
       " (63.0, 'Gage Park'),\n",
       " (64.0, 'Clearing'),\n",
       " (65.0, 'West Lawn'),\n",
       " (66.0, 'Chicago Lawn'),\n",
       " (67.0, 'West Englewood'),\n",
       " (68.0, 'Englewood'),\n",
       " (69.0, 'Greater Grand Crossing'),\n",
       " (70.0, 'Ashburn'),\n",
       " (71.0, 'Auburn Gresham'),\n",
       " (72.0, 'Beverly'),\n",
       " (73.0, 'Washington Height'),\n",
       " (74.0, 'Mount Greenwood'),\n",
       " (75.0, 'Morgan Park'),\n",
       " (76.0, \"O'Hare\"),\n",
       " (77.0, 'Edgewater'),\n",
       " (None, 'CHICAGO')]"
      ]
     },
     "execution_count": 28,
     "metadata": {},
     "output_type": "execute_result"
    }
   ],
   "source": [
    "#%sql SELECT COMMUNITY_AREA_NUMBER, COMMUNITY_AREA_NAME FROM CENSUS_DATA WHERE PER_CAPITA_INCOME<11000\n",
    "\n",
    "\n",
    "#%sql SELECT COMMUNITY_AREA_NUMBER, COMMUNITY_AREA_NAME WHERE CENSUS_DATA FROM PER_CAPITA_INCOME<11000\n",
    "\n",
    "\n",
    "\n",
    "#%sql SELECT COMMUNITY AREA NUMBER, COMMUNITY_AREA_NAME FROM CENSUS_DATA WHERE PER_CAPITA_INCOME<11000\n",
    "\n",
    "%sql SELECT COMMUNITY_AREA_NUMBER, COMMUNITY_AREA_NAME FROM CENSUS_DATA WHERE PER_CAPITA_INCOME>11000\n"
   ]
  },
  {
   "cell_type": "markdown",
   "metadata": {},
   "source": [
    "### Problem 3\n",
    "\n",
    "##### List all case numbers for crimes involving minors?(children are not considered minors for the purposes of crime analysis) \n"
   ]
  },
  {
   "cell_type": "code",
   "execution_count": 24,
   "metadata": {
    "tags": []
   },
   "outputs": [
    {
     "name": "stdout",
     "output_type": "stream",
     "text": [
      " * sqlite:///RealWorldData.db\n",
      "Done.\n"
     ]
    },
    {
     "data": {
      "text/html": [
       "<table>\n",
       "    <thead>\n",
       "        <tr>\n",
       "            <th>CASE_NUMBER</th>\n",
       "        </tr>\n",
       "    </thead>\n",
       "    <tbody>\n",
       "        <tr>\n",
       "            <td>HL266884</td>\n",
       "        </tr>\n",
       "        <tr>\n",
       "            <td>HK238408</td>\n",
       "        </tr>\n",
       "    </tbody>\n",
       "</table>"
      ],
      "text/plain": [
       "[('HL266884',), ('HK238408',)]"
      ]
     },
     "execution_count": 24,
     "metadata": {},
     "output_type": "execute_result"
    }
   ],
   "source": [
    "%sql SELECT CASE_NUMBER FROM CHICAGO_CRIME_DATA  WHERE DESCRIPTION LIKE '%MINOR%'  AND NOT (DESCRIPTION LIKE '%CHILD%');\n"
   ]
  },
  {
   "cell_type": "markdown",
   "metadata": {},
   "source": [
    "### Problem 4\n",
    "\n",
    "##### List all kidnapping crimes involving a child?\n"
   ]
  },
  {
   "cell_type": "code",
   "execution_count": 32,
   "metadata": {
    "tags": []
   },
   "outputs": [
    {
     "name": "stdout",
     "output_type": "stream",
     "text": [
      " * sqlite:///RealWorldData.db\n",
      "Done.\n"
     ]
    },
    {
     "data": {
      "text/html": [
       "<table>\n",
       "    <thead>\n",
       "        <tr>\n",
       "            <th>ID</th>\n",
       "            <th>CASE_NUMBER</th>\n",
       "            <th>DATE</th>\n",
       "            <th>BLOCK</th>\n",
       "            <th>IUCR</th>\n",
       "            <th>PRIMARY_TYPE</th>\n",
       "            <th>DESCRIPTION</th>\n",
       "            <th>LOCATION_DESCRIPTION</th>\n",
       "            <th>ARREST</th>\n",
       "            <th>DOMESTIC</th>\n",
       "            <th>BEAT</th>\n",
       "            <th>DISTRICT</th>\n",
       "            <th>WARD</th>\n",
       "            <th>COMMUNITY_AREA_NUMBER</th>\n",
       "            <th>FBICODE</th>\n",
       "            <th>X_COORDINATE</th>\n",
       "            <th>Y_COORDINATE</th>\n",
       "            <th>YEAR</th>\n",
       "            <th>LATITUDE</th>\n",
       "            <th>LONGITUDE</th>\n",
       "            <th>LOCATION</th>\n",
       "        </tr>\n",
       "    </thead>\n",
       "    <tbody>\n",
       "        <tr>\n",
       "            <td>5276766</td>\n",
       "            <td>HN144152</td>\n",
       "            <td>2007-01-26</td>\n",
       "            <td>050XX W VAN BUREN ST</td>\n",
       "            <td>1792</td>\n",
       "            <td>KIDNAPPING</td>\n",
       "            <td>CHILD ABDUCTION/STRANGER</td>\n",
       "            <td>STREET</td>\n",
       "            <td>0</td>\n",
       "            <td>0</td>\n",
       "            <td>1533</td>\n",
       "            <td>15</td>\n",
       "            <td>29.0</td>\n",
       "            <td>25.0</td>\n",
       "            <td>20</td>\n",
       "            <td>1143050.0</td>\n",
       "            <td>1897546.0</td>\n",
       "            <td>2007</td>\n",
       "            <td>41.87490841</td>\n",
       "            <td>-87.75024931</td>\n",
       "            <td>(41.874908413, -87.750249307)</td>\n",
       "        </tr>\n",
       "    </tbody>\n",
       "</table>"
      ],
      "text/plain": [
       "[(5276766, 'HN144152', '2007-01-26', '050XX W VAN BUREN ST', '1792', 'KIDNAPPING', 'CHILD ABDUCTION/STRANGER', 'STREET', 0, 0, 1533, 15, 29.0, 25.0, '20', 1143050.0, 1897546.0, 2007, 41.87490841, -87.75024931, '(41.874908413, -87.750249307)')]"
      ]
     },
     "execution_count": 32,
     "metadata": {},
     "output_type": "execute_result"
    }
   ],
   "source": [
    "\n",
    "\n",
    "#%sql SELECT * FROM CHICAGO_CRIME_DATA WHERE DESCRIPTION LIKE “%CHILD%”\n",
    "\n",
    "\n",
    "\n",
    "#%sql SELECT * FROM CHICAGO_CRIME_DATA WHERE PRIMARY_TYPE = \"KIDNAPPING\" AND DESCRIPTION = “%CHILD%”\n",
    "\n",
    "\n",
    "\n",
    "#%sql SELECT * FROM CHICAGO_CRIME_DATA WHERE PRIMARY_TYPE = \"KIDNAPPING\" AND DESCRIPTION LIKE “%CHILD%”\n",
    "\n",
    "\n",
    "\n",
    "%sql SELECT * FROM CHICAGO_CRIME_DATA WHERE PRIMARY_TYPE = \"KIDNAPPING\"\n"
   ]
  },
  {
   "cell_type": "markdown",
   "metadata": {},
   "source": [
    "### Problem 5\n",
    "\n",
    "##### List the kind of crimes that were recorded at schools. (No repetitions)\n"
   ]
  },
  {
   "cell_type": "code",
   "execution_count": null,
   "metadata": {},
   "outputs": [],
   "source": []
  },
  {
   "cell_type": "markdown",
   "metadata": {},
   "source": [
    "### Problem 6\n",
    "\n",
    "##### List the type of schools along with the average safety score for each type.\n"
   ]
  },
  {
   "cell_type": "code",
   "execution_count": null,
   "metadata": {},
   "outputs": [],
   "source": []
  },
  {
   "cell_type": "markdown",
   "metadata": {},
   "source": [
    "### Problem 7\n",
    "\n",
    "##### List 5 community areas with highest % of households below poverty line\n"
   ]
  },
  {
   "cell_type": "code",
   "execution_count": 34,
   "metadata": {
    "tags": []
   },
   "outputs": [
    {
     "name": "stdout",
     "output_type": "stream",
     "text": [
      " * sqlite:///RealWorldData.db\n",
      "Done.\n"
     ]
    },
    {
     "data": {
      "text/html": [
       "<table>\n",
       "    <thead>\n",
       "        <tr>\n",
       "            <th>COMMUNITY_AREA_NAME</th>\n",
       "        </tr>\n",
       "    </thead>\n",
       "    <tbody>\n",
       "        <tr>\n",
       "            <td>Riverdale</td>\n",
       "        </tr>\n",
       "        <tr>\n",
       "            <td>Fuller Park</td>\n",
       "        </tr>\n",
       "        <tr>\n",
       "            <td>Englewood</td>\n",
       "        </tr>\n",
       "        <tr>\n",
       "            <td>North Lawndale</td>\n",
       "        </tr>\n",
       "        <tr>\n",
       "            <td>East Garfield Park</td>\n",
       "        </tr>\n",
       "    </tbody>\n",
       "</table>"
      ],
      "text/plain": [
       "[('Riverdale',),\n",
       " ('Fuller Park',),\n",
       " ('Englewood',),\n",
       " ('North Lawndale',),\n",
       " ('East Garfield Park',)]"
      ]
     },
     "execution_count": 34,
     "metadata": {},
     "output_type": "execute_result"
    }
   ],
   "source": [
    "\n",
    "\n",
    "%sql SELECT COMMUNITY_AREA_NAME FROM CENSUS_DATA ORDER BY PERCENT_HOUSEHOLDS_BELOW_POVERTY DESC LIMIT 5;\n",
    "\n",
    "\n",
    "#ORDER BY PERCENT_HOUSEHOLDS_BELOW_POVERTY DESC\n",
    "\n",
    "\n",
    "\n",
    "#ORDER BY PERCENT_HOUSEHOLDS_BELOW_POVERTY LIMIT 5\n",
    "\n",
    "\n",
    "\n",
    "#ORDER BY PERCENT_HOUSEHOLDS_BELOW_POVERTY DESC LIMIT\n"
   ]
  },
  {
   "cell_type": "markdown",
   "metadata": {},
   "source": [
    "### Problem 8\n",
    "\n",
    "##### Which community area is most crime prone? Display the coumminty area number only.\n"
   ]
  },
  {
   "cell_type": "code",
   "execution_count": 35,
   "metadata": {
    "tags": []
   },
   "outputs": [
    {
     "name": "stdout",
     "output_type": "stream",
     "text": [
      " * sqlite:///RealWorldData.db\n",
      "Done.\n"
     ]
    },
    {
     "data": {
      "text/html": [
       "<table>\n",
       "    <thead>\n",
       "        <tr>\n",
       "            <th>COMMUNITY_AREA_NUMBER</th>\n",
       "        </tr>\n",
       "    </thead>\n",
       "    <tbody>\n",
       "        <tr>\n",
       "            <td>77.0</td>\n",
       "        </tr>\n",
       "    </tbody>\n",
       "</table>"
      ],
      "text/plain": [
       "[(77.0,)]"
      ]
     },
     "execution_count": 35,
     "metadata": {},
     "output_type": "execute_result"
    }
   ],
   "source": [
    "%sql SELECT community_area_number FROM CENSUS_DATA GROUP BY community_area_number ORDER BY COUNT(*) DESC LIMIT 1;\n"
   ]
  },
  {
   "cell_type": "markdown",
   "metadata": {},
   "source": [
    "\n",
    "Double-click **here** for a hint\n",
    "\n",
    "<!--\n",
    "Query for the 'community area number' that has most number of incidents\n",
    "-->\n"
   ]
  },
  {
   "cell_type": "markdown",
   "metadata": {},
   "source": [
    "### Problem 9\n",
    "\n",
    "##### Use a sub-query to find the name of the community area with highest hardship index\n"
   ]
  },
  {
   "cell_type": "code",
   "execution_count": 38,
   "metadata": {
    "tags": []
   },
   "outputs": [
    {
     "name": "stdout",
     "output_type": "stream",
     "text": [
      " * sqlite:///RealWorldData.db\n",
      "Done.\n"
     ]
    },
    {
     "data": {
      "text/html": [
       "<table>\n",
       "    <thead>\n",
       "        <tr>\n",
       "            <th>COMMUNITY_AREA_NAME</th>\n",
       "        </tr>\n",
       "    </thead>\n",
       "    <tbody>\n",
       "        <tr>\n",
       "            <td>Riverdale</td>\n",
       "        </tr>\n",
       "    </tbody>\n",
       "</table>"
      ],
      "text/plain": [
       "[('Riverdale',)]"
      ]
     },
     "execution_count": 38,
     "metadata": {},
     "output_type": "execute_result"
    }
   ],
   "source": [
    "#%sql SELECT COMMUNITY_AREA_NAME FROM CENSUS_DATA WHERE HARDSHIP_INDEX IN (SELECT MOST(HARDSHIP_INDEX) FROM CENSUS_DATA);\n",
    "\n",
    "\n",
    "\n",
    "#%sql SELECT COMMUNITY_AREA_NAME FROM CENSUS_DATA WHERE HARDSHIP_INDEX IN (SELECT HARDSHIP_INDEX FROM CENSUS_DATA;\n",
    "\n",
    "\n",
    "\n",
    "%sql SELECT COMMUNITY_AREA_NAME FROM CENSUS_DATA WHERE HARDSHIP_INDEX IN (SELECT MAX(HARDSHIP_INDEX) FROM CENSUS_DATA);\n",
    "\n",
    "\n",
    "\n",
    "#SELECT COMMUNITY_AREA_NAME FROM CENSUS_DATA WHERE HARDSHIP_INDEX AS (SELECT MAX(HARDSHIP_INDEX) FROM CENSUS_DATA);\n"
   ]
  },
  {
   "cell_type": "markdown",
   "metadata": {},
   "source": [
    "### Problem 10\n",
    "\n",
    "##### Use a sub-query to determine the Community Area Name with most number of crimes?\n"
   ]
  },
  {
   "cell_type": "code",
   "execution_count": 39,
   "metadata": {
    "tags": []
   },
   "outputs": [
    {
     "name": "stdout",
     "output_type": "stream",
     "text": [
      " * sqlite:///RealWorldData.db\n",
      "(sqlite3.OperationalError) no such column: NUMBER_OF_CRIMES\n",
      "[SQL: SELECT COMMUNITY_AREA_NAME FROM CENSUS_DATA WHERE NUMBER_OF_CRIMES IN (SELECT MAX(NUMBER_OF_CRIMES) FROM CENSUS_DATA);]\n",
      "(Background on this error at: http://sqlalche.me/e/13/e3q8)\n"
     ]
    }
   ],
   "source": [
    "%sql SELECT COMMUNITY_AREA_NAME FROM CENSUS_DATA WHERE NUMBER_OF_CRIMES IN (SELECT MAX(NUMBER_OF_CRIMES) FROM CENSUS_DATA);\n"
   ]
  },
  {
   "cell_type": "code",
   "execution_count": 33,
   "metadata": {
    "tags": []
   },
   "outputs": [
    {
     "name": "stdout",
     "output_type": "stream",
     "text": [
      " * sqlite:///RealWorldData.db\n",
      "(sqlite3.OperationalError) no such column: school_level\n",
      "[SQL: SELECT AVG(safety_score) AS average_safety_score FROM CHICAGO_PUBLIC_SCHOOLS_DATA WHERE school_level = 'Middle School';]\n",
      "(Background on this error at: http://sqlalche.me/e/13/e3q8)\n"
     ]
    }
   ],
   "source": [
    "%sql SELECT AVG(safety_score) AS average_safety_score FROM CHICAGO_PUBLIC_SCHOOLS_DATA WHERE school_level = 'Middle School';\n"
   ]
  },
  {
   "cell_type": "markdown",
   "metadata": {},
   "source": [
    "## Author(s)\n",
    "\n",
    "<h4> Hima Vasudevan </h4>\n",
    "<h4> Rav Ahuja </h4>\n",
    "<h4> Ramesh Sannreddy </h4>\n",
    "\n",
    "## Contribtuor(s)\n",
    "\n",
    "<h4> Malika Singla </h4>\n",
    "<h4>Abhishek Gagneja</h4>\n",
    "\n",
    "## Change log\n",
    "\n",
    "| Date       | Version | Changed by        | Change Description                             |\n",
    "| ---------- | ------- | ----------------- | ---------------------------------------------- |\n",
    "|2023-10-18  | 2.6     | Abhishek Gagneja  | Modified instruction set |\n",
    "| 2022-03-04 | 2.5     | Lakshmi Holla     | Changed markdown.                   |\n",
    "| 2021-05-19 | 2.4     | Lakshmi Holla     | Updated the question                           |\n",
    "| 2021-04-30 | 2.3     | Malika Singla     | Updated the libraries                          |\n",
    "| 2021-01-15 | 2.2     | Rav Ahuja         | Removed problem 11 and fixed changelog         |\n",
    "| 2020-11-25 | 2.1     | Ramesh Sannareddy | Updated the problem statements, and datasets   |\n",
    "| 2020-09-05 | 2.0     | Malika Singla     | Moved lab to course repo in GitLab             |\n",
    "| 2018-07-18 | 1.0     | Rav Ahuja         | Several updates including loading instructions |\n",
    "| 2018-05-04 | 0.1     | Hima Vasudevan    | Created initial version                        |\n",
    "\n",
    "## <h3 align=\"center\"> © IBM Corporation 2023. All rights reserved. <h3/>\n"
   ]
  }
 ],
 "metadata": {
  "kernelspec": {
   "display_name": "Python",
   "language": "python",
   "name": "conda-env-python-py"
  },
  "language_info": {
   "codemirror_mode": {
    "name": "ipython",
    "version": 3
   },
   "file_extension": ".py",
   "mimetype": "text/x-python",
   "name": "python",
   "nbconvert_exporter": "python",
   "pygments_lexer": "ipython3",
   "version": "3.7.12"
  }
 },
 "nbformat": 4,
 "nbformat_minor": 4
}
